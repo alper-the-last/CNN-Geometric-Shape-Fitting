{
 "cells": [
  {
   "cell_type": "code",
   "execution_count": null,
   "metadata": {},
   "outputs": [],
   "source": [
    "import matplotlib.pyplot as plt\n",
    "import numpy as np\n",
    "import os\n",
    "import sys\n",
    "import pandas as pd\n",
    "import cv2\n",
    "import pickle\n",
    "import random\n",
    "from sklearn.model_selection import train_test_split\n",
    "from sklearn.model_selection import KFold\n",
    "from sklearn import metrics\n",
    "import tensorflow as tf\n",
    "from tensorflow.keras.models import *\n",
    "from tensorflow.keras.layers import *\n",
    "\n",
    "#Define the ideal picture size for training\n",
    "size = 100\n",
    "\n",
    "# Import image files of 3D holes\n",
    "rectHole = cv2.imread(\"new3D/HOLE/rectangleHole.png\", 0)\n",
    "rectHole = np.invert(rectHole)\n",
    "\n",
    "cylinderHole = cv2.imread('new3D/HOLE/cylinderHole.png', 0)\n",
    "cylinderHole = np.invert(cylinderHole)\n",
    "\n",
    "octagonHole = cv2.imread('new3D/HOLE/octagonHole.png', 0)\n",
    "octagonHole = np.invert(octagonHole)\n",
    "\n",
    "print(\"done imports\")"
   ]
  },
  {
   "cell_type": "code",
   "execution_count": null,
   "metadata": {},
   "outputs": [],
   "source": [
    "def recenterObject(image):\n",
    "    #### find the center of image\n",
    "    original_height, original_width = image.shape\n",
    "    og_ch = original_height / 2\n",
    "    og_cw = original_width / 2\n",
    "\n",
    "    # calculate moments of binary image\n",
    "    M = cv2.moments(image)\n",
    "\n",
    "    # calculate x,y coordinate of center\n",
    "    cx = int(M[\"m10\"] / M[\"m00\"])\n",
    "    cy = int(M[\"m01\"] / M[\"m00\"])\n",
    "\n",
    "    ### find shift size\n",
    "    offsetX = og_cw - cx\n",
    "    offsetY = og_ch - cy\n",
    "\n",
    "    # recenter object to the center of the image\n",
    "    TM = np.float32([[1, 0, offsetX], [0, 1, offsetY]])\n",
    "\n",
    "    return cv2.warpAffine(image, TM, (original_width, original_height))\n",
    "\n",
    "print(\"done recenterObject\")"
   ]
  },
  {
   "cell_type": "code",
   "execution_count": null,
   "metadata": {},
   "outputs": [],
   "source": [
    "def rotateObject(image):\n",
    "    # set threshold for contours\n",
    "    ret, thresholdedImage = cv2.threshold(image, 127, 255, 0)\n",
    "    \n",
    "    #get external contour of the object\n",
    "    contour, hierarchy = cv2.findContours(thresholdedImage, cv2.RETR_EXTERNAL, cv2.CHAIN_APPROX_SIMPLE)\n",
    "    external = cv2.convexHull(contour[0])\n",
    "    \n",
    "    # find the minimum rectangle which encompases the object (to determine degrees of rotation)\n",
    "    boundryBox = cv2.minAreaRect(external)\n",
    "    \n",
    "    # retrieve the corners of the rectangle\n",
    "    box = cv2.boxPoints(boundryBox)\n",
    "    box = np.int0(box)\n",
    "    \n",
    "    # find the angle of rotation\n",
    "    # tilted right\n",
    "    if  box[0][0] < box[1][0]:\n",
    "        if boundryBox[-1] < 45:\n",
    "            angle = boundryBox[-1]\n",
    "        else:\n",
    "            angle = boundryBox[-1] - 90\n",
    "            \n",
    "    # upright\n",
    "    elif boundryBox[-1] == 0.0:\n",
    "        angle=0\n",
    "        \n",
    "    # tilted left\n",
    "    else:\n",
    "        angle = boundryBox[-1] - 90\n",
    "    \n",
    "    # find center of the image\n",
    "    original_height, original_width = image.shape\n",
    "    center = (original_width // 2, original_height // 2)\n",
    "    \n",
    "    # rotate the image respectively to the angle via rotation matrix\n",
    "    M = cv2.getRotationMatrix2D(center, angle, 1.0)\n",
    "    rotated = cv2.warpAffine(image, M, (original_width, original_height), flags=cv2.INTER_CUBIC, borderMode=cv2.BORDER_REPLICATE)\n",
    "\n",
    "    return rotated\n",
    "\n",
    "print(\"done Rotating\")"
   ]
  },
  {
   "cell_type": "code",
   "execution_count": null,
   "metadata": {},
   "outputs": [],
   "source": [
    "def checkFitNegativePixels(hole, image):\n",
    "    original_height, original_width = hole.shape\n",
    "\n",
    "    for i in range(original_height):\n",
    "        for j in range(original_width):\n",
    "            pixel_hole = hole[i, j]\n",
    "            pixel_image = image[i, j]\n",
    "            if (int(pixel_hole) == 0) and (int(pixel_image) > 0):\n",
    "                return 0\n",
    "    return 1\n",
    "\n",
    "print(\"done checkFitNegativePixels\")"
   ]
  },
  {
   "cell_type": "code",
   "execution_count": null,
   "metadata": {},
   "outputs": [],
   "source": [
    "def categorize(object):\n",
    "    category = []\n",
    "    \n",
    "    category.append(checkFitNegativePixels(rectHoleCentered, object))\n",
    "    category.append(checkFitNegativePixels(cylinderHoleCentered, object))\n",
    "    category.append(checkFitNegativePixels(octagonHoleCentered, object))\n",
    "\n",
    "    return category\n",
    "\n",
    "print(\"done categorize\")"
   ]
  },
  {
   "cell_type": "code",
   "execution_count": null,
   "metadata": {},
   "outputs": [],
   "source": [
    "# Recenter HOLES\n",
    "rectHoleCentered = recenterObject(rectHole)\n",
    "cylinderHoleCentered = recenterObject(cylinderHole)\n",
    "octagonHoleCentered = recenterObject(octagonHole)\n",
    "\n",
    "print('done recentering  holes!')"
   ]
  },
  {
   "cell_type": "code",
   "execution_count": null,
   "metadata": {},
   "outputs": [],
   "source": [
    "image1= cv2.imread(\"new3D/objects/rectPrismRot16.png\", 0)\n",
    "\n",
    "print(\"original\")\n",
    "plt.imshow(image1)\n",
    "plt.show()\n",
    "\n",
    "inv_image = np.invert(image1)\n",
    "image1 = rotateObject(inv_image)\n",
    "image1 = recenterObject(image1)\n",
    "\n",
    "print(\"modified object\")\n",
    "plt.imshow(image1)\n",
    "plt.show()\n",
    "\n",
    "print(\"images of the holes\")\n",
    "plt.imshow(rectHoleCentered)\n",
    "plt.show()\n",
    "plt.imshow(cylinderHoleCentered)\n",
    "plt.show()\n",
    "plt.imshow(octagonHoleCentered)\n",
    "plt.show()\n",
    "\n",
    "print(\"categorize\",categorize(image1))"
   ]
  },
  {
   "cell_type": "code",
   "execution_count": null,
   "metadata": {},
   "outputs": [],
   "source": [
    "training_data = []\n",
    "\n",
    "\n",
    "def labelImages():\n",
    "    counter=0\n",
    "    for img in os.listdir('new3D/objects'):\n",
    "        \n",
    "        image = cv2.imread(os.path.join('new3D/objects', img), 0)\n",
    "        \n",
    "        print(img)\n",
    "\n",
    "        inv_image = np.invert(image)\n",
    "        object = rotateObject(inv_image)\n",
    "        object = recenterObject(object)\n",
    "        \n",
    "        #resize original object image to train size\n",
    "        image = cv2.resize(image, (size, size))\n",
    "        \n",
    "        #add to the training data\n",
    "        training_data.append([image, categorize(object)])\n",
    "        \n",
    "        counter=counter+1\n",
    "    print(counter)\n",
    "    \n",
    "    return training_data\n",
    "\n",
    "labelImages()\n",
    "print(\"done labelling training data\")"
   ]
  },
  {
   "cell_type": "code",
   "execution_count": null,
   "metadata": {},
   "outputs": [],
   "source": [
    "file = open(\"RAW3D_training_data\", \"wb\")\n",
    "pickle.dump(training_data, file)\n",
    "file.close"
   ]
  },
  {
   "cell_type": "code",
   "execution_count": 2,
   "metadata": {},
   "outputs": [
    {
     "name": "stdout",
     "output_type": "stream",
     "text": [
      "done pickle out!\n"
     ]
    }
   ],
   "source": [
    "retrieve_training_data= open(\"RAW3D_training_data\", \"rb\")\n",
    "training_data = pickle.load(retrieve_training_data)\n",
    "print(\"done pickle out!\")"
   ]
  },
  {
   "cell_type": "code",
   "execution_count": 3,
   "metadata": {},
   "outputs": [
    {
     "name": "stdout",
     "output_type": "stream",
     "text": [
      "X shape (404, 100, 100, 1)\n",
      "Y shape (404, 3)\n"
     ]
    }
   ],
   "source": [
    "X=[]\n",
    "Y=[]\n",
    "\n",
    "for object_image, category in training_data:\n",
    "    X.append(object_image)\n",
    "    Y.append(category)\n",
    "\n",
    "\n",
    "X= np.array(X).reshape(-1, size, size, 1)\n",
    "Y= np.array(Y)\n",
    "\n",
    "print(\"X shape\",X.shape)\n",
    "print(\"Y shape\",Y.shape)"
   ]
  },
  {
   "cell_type": "code",
   "execution_count": 4,
   "metadata": {},
   "outputs": [
    {
     "name": "stdout",
     "output_type": "stream",
     "text": [
      "done!\n"
     ]
    }
   ],
   "source": [
    "# create individual label for each shape model\n",
    "\n",
    "def shapeCategory(Y, shape):\n",
    "\n",
    "    if shape=='rectanglePrism':\n",
    "        shape=0\n",
    "    elif shape=='cylinder':\n",
    "        shape=1\n",
    "    elif shape=='octogon':\n",
    "        shape=2\n",
    "    else:\n",
    "        shape=3\n",
    "        print(\"error\")\n",
    "        \n",
    "    shapeCategoryLabel=[]\n",
    "\n",
    "    for i in range(len(Y)):\n",
    "        shapeCategoryLabel.append(Y[i][shape])\n",
    "    shapeCategoryLabel= np.array(shapeCategoryLabel)\n",
    "    return shapeCategoryLabel\n",
    "print(\"done!\")"
   ]
  },
  {
   "cell_type": "code",
   "execution_count": null,
   "metadata": {},
   "outputs": [],
   "source": [
    "# define label for each shape\n",
    "\n",
    "rectanglePrismLabels=shapeCategory(Y, \"rectanglePrism\")\n",
    "cylinderLabels=shapeCategory(Y, \"cylinder\")\n",
    "octogonLabels=shapeCategory(Y, \"octogon\")"
   ]
  },
  {
   "cell_type": "code",
   "execution_count": 6,
   "metadata": {},
   "outputs": [],
   "source": [
    "import tensorflow as tf\n",
    "from tensorflow.keras.models import *\n",
    "from tensorflow.keras.layers import *\n",
    "\n",
    "class shapeCategoryModel():\n",
    "\n",
    "    def skeleton(self, inputs):\n",
    "        \n",
    "        x = Conv2D(16, (3, 3))(inputs)\n",
    "        x = Activation(\"relu\")(x)\n",
    "        x = MaxPooling2D(pool_size=(3, 3))(x)\n",
    " \n",
    "        x = Conv2D(16, (3, 3))(x)\n",
    "        x = Activation(\"relu\")(x)\n",
    "        x = MaxPooling2D(pool_size=(2, 2))(x)\n",
    "        \n",
    "        x=Flatten()(x)\n",
    "        \n",
    "        x=Dense(16)(x)    \n",
    "        x=Dense(1)(x)\n",
    "        \n",
    "        x = Activation(\"sigmoid\")(x)\n",
    "              \n",
    "        return x\n",
    "    \n",
    "    def voltran(self):\n",
    "\n",
    "            input_shape = (size, size, 1)\n",
    "            inputs = Input(shape=input_shape)\n",
    "        \n",
    "            rectanglePrism = self.skeleton(inputs)\n",
    "            cylinder = self.skeleton(inputs)\n",
    "            octogon = self.skeleton(inputs)\n",
    "\n",
    "            modelshapeCategory = Model(inputs=inputs,\n",
    "                         outputs = [rectanglePrism, cylinder, octogon],\n",
    "                         name=\"shapeFitting\")\n",
    "            return modelshapeCategory"
   ]
  },
  {
   "cell_type": "code",
   "execution_count": 7,
   "metadata": {},
   "outputs": [
    {
     "name": "stdout",
     "output_type": "stream",
     "text": [
      "Results of K: 1 rectangleAccuracy: 0.95 cylinderAccuracy: 0.97 octogonAccuracy: 0.78\n",
      "Results of K: 2 rectangleAccuracy: 1.00 cylinderAccuracy: 1.00 octogonAccuracy: 0.82\n",
      "Results of K: 3 rectangleAccuracy: 1.00 cylinderAccuracy: 0.97 octogonAccuracy: 0.98\n",
      "Results of K: 4 rectangleAccuracy: 0.97 cylinderAccuracy: 1.00 octogonAccuracy: 0.88\n",
      "Results of K: 5 rectangleAccuracy: 0.78 cylinderAccuracy: 0.82 octogonAccuracy: 1.00\n"
     ]
    }
   ],
   "source": [
    "kfold = KFold(n_splits=5, shuffle=True) #, shuffle=True\n",
    "K_value=1\n",
    "for train, test in kfold.split(X, Y):\n",
    "    modelshapeCategory = shapeCategoryModel().voltran()\n",
    "\n",
    "\n",
    "    modelshapeCategory.compile(\n",
    "            loss=\"binary_crossentropy\",\n",
    "             optimizer=\"adam\",\n",
    "             metrics=[\"accuracy\"])\n",
    "#     metrics=[\"accuracy\", \"mse\"])\n",
    "    \n",
    "    history = modelshapeCategory.fit(X, [rectanglePrismLabels, cylinderLabels, octogonLabels], batch_size=25, epochs=10, verbose=0)\n",
    "    \n",
    "    scores=modelshapeCategory.evaluate(X, [rectanglePrismLabels, cylinderLabels, octogonLabels], verbose=0)\n",
    "       \n",
    "    rectangleAccuracy=scores[4]\n",
    "    cylinderAccuracy=scores[5]\n",
    "    octogonAccuracy=scores[6]\n",
    "    \n",
    "    print(\"Results of K:\",K_value,\"rectangleAccuracy:\",\"{:.2f}\".format(rectangleAccuracy),\n",
    "          \"cylinderAccuracy:\",\"{:.2f}\".format(cylinderAccuracy),\n",
    "          \"octogonAccuracy:\",\"{:.2f}\".format(octogonAccuracy))\n",
    "          \n",
    "    K_value+=1\n"
   ]
  },
  {
   "cell_type": "code",
   "execution_count": null,
   "metadata": {},
   "outputs": [],
   "source": [
    "rectResults = []\n",
    "cylinderResults = []\n",
    "octogonResults = []\n",
    "\n",
    "def roundVal(x):\n",
    "    if x <.5:\n",
    "        return 0\n",
    "    else:\n",
    "        return 1\n",
    "    \n",
    "for img in os.listdir('new3D/objects'):\n",
    "        \n",
    "        image = cv2.imread(os.path.join('new3D/objects', img), 0)\n",
    "        resizedImage = cv2.resize(image, (size, size))\n",
    "\n",
    "        npImage=np.array(resizedImage).reshape(-1, size, size)\n",
    "        modelresult = modelshapeCategory.predict(npImage)\n",
    "        \n",
    "        rectResult=roundVal(modelresult[0][0][0])\n",
    "        cylinderResult=roundVal(modelresult[1][0][0])\n",
    "        octogonResult=roundVal(modelresult[2][0][0])\n",
    "        \n",
    "        rectResults.append(rectResult)\n",
    "        cylinderResults.append(cylinderResult)\n",
    "        octogonResults.append(octogonResult)\n"
   ]
  },
  {
   "cell_type": "code",
   "execution_count": 9,
   "metadata": {},
   "outputs": [
    {
     "name": "stdout",
     "output_type": "stream",
     "text": [
      "404\n",
      "404\n",
      "rect: [[170   8]\n",
      " [ 79 147]]\n",
      "cylinder: [[160  17]\n",
      " [ 56 171]]\n",
      "octagon: [[ 81   2]\n",
      " [  0 321]]\n"
     ]
    }
   ],
   "source": [
    "confusionRect = metrics.confusion_matrix(rectanglePrismLabels, rectResults)\n",
    "confusionCylinder = metrics.confusion_matrix(cylinderLabels, cylinderResults)\n",
    "confusionOctagon = metrics.confusion_matrix(octogonLabels, octogonResults)\n",
    "\n",
    "print(\"rect:\",confusionRect)\n",
    "print(\"cylinder:\",confusionCylinder)\n",
    "print(\"octagon:\",confusionOctagon)"
   ]
  },
  {
   "cell_type": "code",
   "execution_count": 10,
   "metadata": {},
   "outputs": [
    {
     "name": "stdout",
     "output_type": "stream",
     "text": [
      "Classification Accuracy 0.7846534653465347\n",
      "Classification Error 0.21534653465346534\n",
      "sensitivity 0.6504424778761062\n",
      "precision 0.9483870967741935\n"
     ]
    }
   ],
   "source": [
    "TP = confusionRect[1, 1]\n",
    "TN = confusionRect[0, 0]\n",
    "FP = confusionRect[0, 1]\n",
    "FN = confusionRect[1, 0]\n",
    "\n",
    "print(\"Classification Accuracy\",(TP + TN) / float(TP + TN + FP + FN))\n",
    "\n",
    "print(\"Classification Error\",(FP + FN) / float(TP + TN + FP + FN))\n",
    "\n",
    "print(\"sensitivity\",TP / float(FN + TP))\n",
    "\n",
    "print(\"precision\",TP / float(TP + FP))"
   ]
  },
  {
   "cell_type": "code",
   "execution_count": 11,
   "metadata": {},
   "outputs": [
    {
     "name": "stdout",
     "output_type": "stream",
     "text": [
      "Classification Accuracy 0.8193069306930693\n",
      "Classification Error 0.1806930693069307\n",
      "sensitivity 0.7533039647577092\n",
      "precision 0.9095744680851063\n"
     ]
    }
   ],
   "source": [
    "TP = confusionCylinder[1, 1]\n",
    "TN = confusionCylinder[0, 0]\n",
    "FP = confusionCylinder[0, 1]\n",
    "FN = confusionCylinder[1, 0]\n",
    "\n",
    "print(\"Classification Accuracy\",(TP + TN) / float(TP + TN + FP + FN))\n",
    "\n",
    "print(\"Classification Error\",(FP + FN) / float(TP + TN + FP + FN))\n",
    "\n",
    "print(\"sensitivity\",TP / float(FN + TP))\n",
    "\n",
    "print(\"precision\",TP / float(TP + FP))"
   ]
  },
  {
   "cell_type": "code",
   "execution_count": 12,
   "metadata": {},
   "outputs": [
    {
     "name": "stdout",
     "output_type": "stream",
     "text": [
      "Classification Accuracy 0.995049504950495\n",
      "Classification Error 0.0049504950495049506\n",
      "sensitivity 1.0\n",
      "precision 0.9938080495356038\n"
     ]
    }
   ],
   "source": [
    "TP = confusionOctagon[1, 1]\n",
    "TN = confusionOctagon[0, 0]\n",
    "FP = confusionOctagon[0, 1]\n",
    "FN = confusionOctagon[1, 0]\n",
    "\n",
    "print(\"Classification Accuracy\",(TP + TN) / float(TP + TN + FP + FN))\n",
    "\n",
    "print(\"Classification Error\",(FP + FN) / float(TP + TN + FP + FN))\n",
    "\n",
    "print(\"sensitivity\",TP / float(FN + TP))\n",
    "\n",
    "print(\"precision\",TP / float(TP + FP))"
   ]
  },
  {
   "cell_type": "code",
   "execution_count": null,
   "metadata": {},
   "outputs": [],
   "source": []
  }
 ],
 "metadata": {
  "kernelspec": {
   "display_name": "Python 3 (ipykernel)",
   "language": "python",
   "name": "python3"
  },
  "language_info": {
   "codemirror_mode": {
    "name": "ipython",
    "version": 3
   },
   "file_extension": ".py",
   "mimetype": "text/x-python",
   "name": "python",
   "nbconvert_exporter": "python",
   "pygments_lexer": "ipython3",
   "version": "3.10.2"
  }
 },
 "nbformat": 4,
 "nbformat_minor": 2
}
